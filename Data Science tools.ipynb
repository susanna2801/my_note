{
 "cells": [
  {
   "cell_type": "markdown",
   "id": "e8841b3f",
   "metadata": {},
   "source": [
    "# Data Science Tools and Ecosystem"
   ]
  },
  {
   "cell_type": "markdown",
   "id": "6f629f5c",
   "metadata": {},
   "source": [
    "In this notebook, Data Science Tools and Ecosystem are summarized."
   ]
  },
  {
   "cell_type": "markdown",
   "id": "201238c0",
   "metadata": {},
   "source": [
    "Some of the popular languages that Data Scientists use are:\n",
    "1. Python\n",
    "2. R-language \n",
    "3. Julia"
   ]
  },
  {
   "cell_type": "markdown",
   "id": "939373cc",
   "metadata": {},
   "source": [
    "Some of the commonly used libraries used by Data Scientists include:\n",
    "1. Pandas\n",
    "2. Mathplotlib\n",
    "3. scikit"
   ]
  },
  {
   "cell_type": "markdown",
   "id": "b592cb0d",
   "metadata": {},
   "source": [
    "| Data Science Tools |\n",
    "| --- |\n",
    "| Rstudio |\n",
    "| Pythorch |\n",
    "| Jupyter |"
   ]
  },
  {
   "cell_type": "markdown",
   "id": "f65f027d",
   "metadata": {},
   "source": [
    "### Below are a few examples of evaluating arithmetic expressions in Python"
   ]
  },
  {
   "cell_type": "code",
   "execution_count": 18,
   "id": "4a16abab",
   "metadata": {},
   "outputs": [
    {
     "data": {
      "text/plain": [
       "17"
      ]
     },
     "execution_count": 18,
     "metadata": {},
     "output_type": "execute_result"
    }
   ],
   "source": [
    "# This a simple arithmetic expression to mutiply then add integers\n",
    "(3*4)+5"
   ]
  },
  {
   "cell_type": "code",
   "execution_count": 20,
   "id": "7d80187a",
   "metadata": {},
   "outputs": [
    {
     "data": {
      "text/plain": [
       "33.333333333333336"
      ]
     },
     "execution_count": 20,
     "metadata": {},
     "output_type": "execute_result"
    }
   ],
   "source": [
    "#This will convert 200 minutes to hours by diving by 60\n",
    "200/6"
   ]
  },
  {
   "attachments": {},
   "cell_type": "markdown",
   "id": "3abb2c37",
   "metadata": {},
   "source": [
    "# **Objectives**\n",
    "- list popular languages for data science\n",
    "- list commonly used libraries by data scientist\n",
    "- using markdown to add title\n",
    "- create table using markdown\n",
    "- evaluate arithmetic expressions"
   ]
  },
  {
   "cell_type": "markdown",
   "id": "7c0f0fd5",
   "metadata": {},
   "source": [
    "## Author\n",
    "Susanna"
   ]
  },
  {
   "cell_type": "code",
   "execution_count": null,
   "id": "dc4a2639",
   "metadata": {},
   "outputs": [],
   "source": []
  }
 ],
 "metadata": {
  "kernelspec": {
   "display_name": "Python 3 (ipykernel)",
   "language": "python",
   "name": "python3"
  },
  "language_info": {
   "codemirror_mode": {
    "name": "ipython",
    "version": 3
   },
   "file_extension": ".py",
   "mimetype": "text/x-python",
   "name": "python",
   "nbconvert_exporter": "python",
   "pygments_lexer": "ipython3",
   "version": "3.11.3"
  }
 },
 "nbformat": 4,
 "nbformat_minor": 5
}
